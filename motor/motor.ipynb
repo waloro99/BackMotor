{
 "cells": [
  {
   "cell_type": "code",
   "execution_count": 4,
   "metadata": {},
   "outputs": [],
   "source": [
    "import pandas as pd\n",
    " \n",
    " #obtener el data frame de la informacion del archivo csv\n",
    "df = pd.Cov = pd.read_csv(\"../data/test.csv\", header=None)#(\"movie_metadata.csv\")#(\"test.csv\")\n",
    "df.columns = [\"ID\", \"movie_title\", \"color\", \"plot_keywords\", \"genres\", \"director_name\", \"num_critic_for_reviews\" , \"actor_1_name\", \"actor_2_name\", \"imdb_score\", \"title_year\", \"num_critic_for_reviews\"]\n",
    "\n",
    "#print(df)"
   ]
  },
  {
   "cell_type": "code",
   "execution_count": 3,
   "metadata": {},
   "outputs": [
    {
     "name": "stdout",
     "output_type": "stream",
     "text": [
      "4906\n"
     ]
    }
   ],
   "source": [
    "print(df['genres'].size)"
   ]
  },
  {
   "cell_type": "code",
   "execution_count": 58,
   "metadata": {},
   "outputs": [
    {
     "name": "stdout",
     "output_type": "stream",
     "text": [
      "{'Comedy': 1841, 'Crime': 868, 'Drama': 2531, 'Action': 1109, 'Thriller': 1363, 'Adventure': 887, 'Fantasy': 581, 'Biography': 291, 'History': 201, 'Western': 94, 'Sci': 592, 'Fi': 592, 'Sport': 174, 'Family': 532, 'Horror': 539, 'Documentary': 120, 'Mystery': 484, 'War': 210, 'Animation': 239, 'Romance': 1082, 'Musical': 130, 'Music': 210, 'Film': 6, 'Noir': 6, 'News': 3, 'Short': 5, 'Reality': 2, 'TV': 2, 'Game': 1, 'Show': 1}\n"
     ]
    }
   ],
   "source": [
    "def crear_tabla_frecuencias(parametro):\n",
    "    frecuencias = {}\n",
    "    for item in parametro:\n",
    "        for token in item:\n",
    "            if token not in frecuencias.keys():\n",
    "                frecuencias[token] = 1\n",
    "            else:\n",
    "                frecuencias[token] += 1\n",
    "    return frecuencias \n",
    "      \n",
    "\n",
    "frecuencia_total_genero = crear_tabla_frecuencias(df['genres'].str.split(\"-\"))\n",
    "print(frecuencia_total_genero)"
   ]
  },
  {
   "cell_type": "code",
   "execution_count": 59,
   "metadata": {},
   "outputs": [
    {
     "name": "stdout",
     "output_type": "stream",
     "text": [
      "14696\n"
     ]
    }
   ],
   "source": [
    "def contar_palabras(corpus):\n",
    "    frecuencia = 0\n",
    "    for oracion in corpus:\n",
    "        frecuencia += len(oracion)\n",
    "    return frecuencia\n",
    "\n",
    "total_genero = contar_palabras(df['genres'].str.split(\"-\"))\n",
    "print(total_genero)"
   ]
  },
  {
   "cell_type": "code",
   "execution_count": 147,
   "metadata": {},
   "outputs": [
    {
     "ename": "SyntaxError",
     "evalue": "invalid syntax (2605998252.py, line 9)",
     "output_type": "error",
     "traceback": [
      "\u001b[1;36m  Input \u001b[1;32mIn [147]\u001b[1;36m\u001b[0m\n\u001b[1;33m    generos = ['Comedy','Mystery','History','Action','Action','Action','Action','Action','Action'] { 'action'}\u001b[0m\n\u001b[1;37m                                                                                                   ^\u001b[0m\n\u001b[1;31mSyntaxError\u001b[0m\u001b[1;31m:\u001b[0m invalid syntax\n"
     ]
    }
   ],
   "source": [
    "def le_gusta(generos,frecuencia):\n",
    "    frecuencia_nueva = {}\n",
    "    for k,v in frecuencia.items():\n",
    "        frecuencia_nueva[k] = 0\n",
    "    for genero in generos:\n",
    "        frecuencia_nueva[genero] =+ 1\n",
    "    return frecuencia_nueva\n",
    "\n",
    "generos = ['Comedy','Mystery','History','Action','Action','Action','Action','Action','Action']\n",
    "frecuencia_le_gusta = le_gusta(generos,frecuencia_total_genero)\n",
    "generos_no = ['Thriller','Crime','History']\n",
    "frecuencia_no_le_gusta = le_gusta(generos_no,frecuencia_total_genero)\n",
    "p_generos = len(generos) / len(frecuencia_total_genero.keys())\n",
    "p_no_generos = len(generos_no) / len(frecuencia_total_genero.keys())\n",
    "print(frecuencia_no_le_gusta)"
   ]
  },
  {
   "cell_type": "code",
   "execution_count": 144,
   "metadata": {},
   "outputs": [
    {
     "name": "stdout",
     "output_type": "stream",
     "text": [
      "{'Comedy': 0.0005431830526887561, 'Crime': 0.0001, 'Drama': 0.0001, 'Action': 0.0009017132551848512, 'Thriller': 0.0001, 'Adventure': 0.0001, 'Fantasy': 0.0001, 'Biography': 0.0001, 'History': 0.004975124378109453, 'Western': 0.0001, 'Sci': 0.0001, 'Fi': 0.0001, 'Sport': 0.0001, 'Family': 0.0001, 'Horror': 0.0001, 'Documentary': 0.0001, 'Mystery': 0.002066115702479339, 'War': 0.0001, 'Animation': 0.0001, 'Romance': 0.0001, 'Musical': 0.0001, 'Music': 0.0001, 'Film': 0.0001, 'Noir': 0.0001, 'News': 0.0001, 'Short': 0.0001, 'Reality': 0.0001, 'TV': 0.0001, 'Game': 0.0001, 'Show': 0.0001}\n"
     ]
    }
   ],
   "source": [
    "def transformar_frecuencia_probabilidad(frecuencias, total):\n",
    "    cpt_equivalente = {}\n",
    "    for k,v in frecuencias.items():\n",
    "        if v == 0:\n",
    "            probabilidad = 0.0001\n",
    "        else:\n",
    "            probabilidad = v / total[k]\n",
    "        cpt_equivalente[k] = probabilidad\n",
    "    return cpt_equivalente\n",
    "\n",
    "cpt_genero_le_gusta = transformar_frecuencia_probabilidad(frecuencia_le_gusta, frecuencia_total_genero)\n",
    "cpt_genero_no_le_gusta = transformar_frecuencia_probabilidad(frecuencia_no_le_gusta, frecuencia_total_genero)\n",
    "print(cpt_genero_le_gusta)"
   ]
  },
  {
   "cell_type": "code",
   "execution_count": 145,
   "metadata": {},
   "outputs": [
    {
     "name": "stdout",
     "output_type": "stream",
     "text": [
      "0.964351152399627\n",
      "0.3\n",
      "0.1\n",
      "30\n"
     ]
    }
   ],
   "source": [
    "#Prob de que guste la pelicula de accion - pelicula 1 por 1\n",
    "p_genero_leguste = (cpt_genero_le_gusta['Action'] * p_generos) / (cpt_genero_le_gusta['Action'] * p_generos + cpt_genero_no_le_gusta['Action'] * p_no_generos)\n",
    "print(p_genero_leguste)\n",
    "print(p_generos)\n",
    "print(p_no_generos)\n",
    "print(len(frecuencia_total_genero.keys()))"
   ]
  },
  {
   "cell_type": "code",
   "execution_count": 146,
   "metadata": {},
   "outputs": [
    {
     "name": "stdout",
     "output_type": "stream",
     "text": [
      "33.75229033398695\n"
     ]
    }
   ],
   "source": [
    "p_genres =  p_genero_leguste * 0.35 \n",
    "print(p_genres*100)\n"
   ]
  },
  {
   "cell_type": "code",
   "execution_count": null,
   "metadata": {},
   "outputs": [],
   "source": [
    "#sumatoria de todas las probabilidades de cada columna\n",
    "#agregar la probabilidad a la tabla de peliculas\n",
    "#ordenar la tabla de peliculas por prob de mayor a menor\n",
    "#enviar el top 10\n"
   ]
  }
 ],
 "metadata": {
  "interpreter": {
   "hash": "2be5faf79681da6f2a61fdfdd5405d65d042280f7fba6178067603e3a2925119"
  },
  "kernelspec": {
   "display_name": "Python 3.9.4 64-bit",
   "language": "python",
   "name": "python3"
  },
  "language_info": {
   "codemirror_mode": {
    "name": "ipython",
    "version": 3
   },
   "file_extension": ".py",
   "mimetype": "text/x-python",
   "name": "python",
   "nbconvert_exporter": "python",
   "pygments_lexer": "ipython3",
   "version": "3.9.7"
  },
  "orig_nbformat": 4
 },
 "nbformat": 4,
 "nbformat_minor": 2
}
