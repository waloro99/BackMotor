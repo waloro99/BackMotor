{
 "cells": [
  {
   "cell_type": "code",
   "execution_count": null,
   "metadata": {},
   "outputs": [],
   "source": [
    "import pandas as pd\n",
    "import numpy as np\n",
    " \n",
    "#obtener el data frame de la informacion del archivo csv\n",
    "df = pd.Cov = pd.read_csv(\"../data/test.csv\", header=None)\n",
    "df.columns = [\"ID\", \"movie_title\", \"color\", \"plot_keywords\", \"genres\", \"director_name\", \"num_critic_for_reviews\" , \"actor_1_name\", \"actor_2_name\", \"imdb_score\", \"title_year\"]\n",
    "\n",
    "#crear tabla que contenga los id y prob para recomendar\n",
    "recome_peli = {}\n",
    "for i in df.index:\n",
    "    k = str(df['ID'][i])\n",
    "    v = 0\n",
    "    recome_peli[k] = v\n"
   ]
  },
  {
   "cell_type": "code",
   "execution_count": null,
   "metadata": {},
   "outputs": [],
   "source": [
    "# Obtener los gustos del usuario\n",
    "color = ['Color','Color','Color','Black and White']\n",
    "color_no = ['Color','Black and White','Black and White']\n",
    "keywords = ['civilwar','prison','prison','prison']\n",
    "keywords_no = ['prison','mafia','mafia','morality','morality','morality','morality','morality']\n",
    "generos = ['Comedy','Mystery','History','Action','Action','Action','Action','Action','Action']\n",
    "generos_no = ['Thriller','Crime','History']\n",
    "director = ['John Stockwell','John Stockwell']\n",
    "director_no = ['John Blanchard']\n",
    "actor1 = ['Robert De Niro','Abigail Evans']\n",
    "actor1_no = ['Robert De Niro']\n",
    "actor2 = ['Andrea Martin','Andrea Martin']\n",
    "actor2_no = ['Cody Howard']\n",
    "year = [2002,2016,2016,2016]\n",
    "year_no = [1957]"
   ]
  },
  {
   "cell_type": "code",
   "execution_count": null,
   "metadata": {},
   "outputs": [],
   "source": [
    "# Metodo para campos con varios valores\n",
    "\n",
    "# Funcion que sirve para obtener la frecuencia de todos los valores [ej: 'Comedy':1000 , 'Action':200 , ...]\n",
    "def crear_tabla_frecuencias(parametro):\n",
    "    frecuencias = {}\n",
    "    for item in parametro:\n",
    "        if str(item)  != \"nan\":\n",
    "            for token in item:\n",
    "                if token not in frecuencias.keys():\n",
    "                    frecuencias[token] = 1\n",
    "                else:\n",
    "                    frecuencias[token] += 1\n",
    "    return frecuencias \n",
    "\n",
    "# Funcion que sirve para obtener la cantidad total de datos que vienen en el campo [ej: 1000]\n",
    "def contar_palabras(corpus):\n",
    "    frecuencia = 0\n",
    "    for oracion in corpus:\n",
    "        if str(oracion)  != \"nan\":\n",
    "            frecuencia += len(oracion)\n",
    "    return frecuencia\n",
    "\n",
    "# Funcion que sirve para obtener la frecuencia individual si le gusta o no le gusta el valor del campo segun sus gustos [ej: le_gusta { 'Comedy':2 }]\n",
    "def obtener_gustos(generos,frecuencia):\n",
    "    frecuencia_nueva = {}\n",
    "    for k,v in frecuencia.items():\n",
    "        frecuencia_nueva[k] = 0\n",
    "    for genero in generos:\n",
    "        frecuencia_nueva[genero] =+ 1\n",
    "    return frecuencia_nueva\n",
    "\n",
    "# Funcion que sirve para transformar el valor de frecuencia en probabilidad [ej: 'Comedy': 0.00051231]\n",
    "def transformar_frecuencia_probabilidad(frecuencias, total):\n",
    "    cpt_equivalente = {}\n",
    "    for k,v in frecuencias.items():\n",
    "        if v == 0:\n",
    "            probabilidad = 0.0001\n",
    "        else:\n",
    "            probabilidad = v / total[k]\n",
    "        cpt_equivalente[k] = probabilidad\n",
    "    return cpt_equivalente\n",
    "\n",
    "# Funcion que sirve para Naive Bayes para obtener probabilidad de que tanto le gusta [ej: P(le guste | generos que le gustan)]\n",
    "def obtener_prob_gustos(valores,cpt_le_gusta,cpt_no_le_gusta,p_gusta,p_no_gusta):\n",
    "    genero_le_gusta = 1\n",
    "    genero_no_le_gusta = 1\n",
    "    for valor in valores.str.split(\"|\"):\n",
    "        genero_le_gusta *= cpt_le_gusta[valor]     \n",
    "        genero_no_le_gusta *= cpt_no_le_gusta[valor] \n",
    "    prob_genero = (p_gusta * genero_le_gusta) / (p_gusta * genero_le_gusta + p_no_gusta * genero_no_le_gusta)\n",
    "    return prob_genero\n",
    "\n",
    "# Funcion que sirve para obtener el peso del campo respecto a una pelicula\n",
    "def peso_campo(le_gusta,peso):\n",
    "    probabilidad = (le_gusta * peso ) * 100\n",
    "    return probabilidad"
   ]
  },
  {
   "cell_type": "code",
   "execution_count": null,
   "metadata": {},
   "outputs": [],
   "source": [
    "# Metodo para campos con unico valor\n",
    "\n",
    "# Funcion que sirve para obtener la frecuencia de todos los valores [ej: 'Comedy':1000 , 'Action':200 , ...]\n",
    "def crear_tabla_frecuencias_unica(parametro):\n",
    "    frecuencias = {}\n",
    "    if str(parametro)  != \"nan\":\n",
    "        for token in parametro:\n",
    "            if token not in frecuencias.keys():\n",
    "                frecuencias[token] = 1\n",
    "            else:\n",
    "                frecuencias[token] += 1\n",
    "    return frecuencias \n",
    "\n",
    "# Funcion que sirve para obtener la cantidad total de datos que vienen en el campo [ej: 1000]\n",
    "def contar_palabras_unica(corpus):\n",
    "    frecuencia = 0\n",
    "    for oracion in corpus:\n",
    "        if str(oracion)  != \"nan\":\n",
    "            frecuencia += len(oracion)\n",
    "    return frecuencia"
   ]
  },
  {
   "cell_type": "code",
   "execution_count": null,
   "metadata": {},
   "outputs": [],
   "source": [
    "#Probabilidad con campo color\n",
    "frecuencia_total_color = crear_tabla_frecuencias_unica(df['color'])\n",
    "total_color = contar_palabras_unica(df['color'])\n",
    "frecuencia_le_gusta_color = obtener_gustos(color,frecuencia_total_color)\n",
    "frecuencia_no_le_gusta_color = obtener_gustos(color_no,frecuencia_total_color)\n",
    "p_color = len(color) / len(frecuencia_total_color.keys())\n",
    "p_no_color = len(color_no) / len(frecuencia_total_color.keys())\n",
    "cpt_color_le_gusta = transformar_frecuencia_probabilidad(frecuencia_le_gusta_color, frecuencia_total_color)\n",
    "cpt_color_no_le_gusta = transformar_frecuencia_probabilidad(frecuencia_no_le_gusta_color, frecuencia_total_color)"
   ]
  },
  {
   "cell_type": "code",
   "execution_count": null,
   "metadata": {},
   "outputs": [],
   "source": [
    "#Probabilidad con campo plot_keywords\n",
    "frecuencia_total_keywords = crear_tabla_frecuencias(df['plot_keywords'].str.split(\"|\"))\n",
    "total_keywords = contar_palabras(df['plot_keywords'].str.split(\"|\"))\n",
    "frecuencia_le_gusta_keywords = obtener_gustos(keywords,frecuencia_total_keywords)\n",
    "frecuencia_no_le_gusta_keywords = obtener_gustos(keywords_no,frecuencia_total_keywords)\n",
    "p_keywords = len(keywords) / len(frecuencia_total_keywords.keys())\n",
    "p_no_keywords = len(keywords_no) / len(frecuencia_total_keywords.keys())\n",
    "cpt_keywords_le_gusta = transformar_frecuencia_probabilidad(frecuencia_le_gusta_keywords, frecuencia_total_keywords)\n",
    "cpt_keywords_no_le_gusta = transformar_frecuencia_probabilidad(frecuencia_no_le_gusta_keywords, frecuencia_total_keywords)"
   ]
  },
  {
   "cell_type": "code",
   "execution_count": null,
   "metadata": {},
   "outputs": [],
   "source": [
    "#Probabilidad con campo genero\n",
    "frecuencia_total_genero = crear_tabla_frecuencias(df['genres'].str.split(\"|\"))\n",
    "total_genero = contar_palabras(df['genres'].str.split(\"|\"))\n",
    "frecuencia_le_gusta_genero = obtener_gustos(generos,frecuencia_total_genero)\n",
    "frecuencia_no_le_gusta_genero = obtener_gustos(generos_no,frecuencia_total_genero)\n",
    "p_generos = len(generos) / len(frecuencia_total_genero.keys())\n",
    "p_no_generos = len(generos_no) / len(frecuencia_total_genero.keys())\n",
    "cpt_genero_le_gusta = transformar_frecuencia_probabilidad(frecuencia_le_gusta_genero, frecuencia_total_genero)\n",
    "cpt_genero_no_le_gusta = transformar_frecuencia_probabilidad(frecuencia_no_le_gusta_genero, frecuencia_total_genero)"
   ]
  },
  {
   "cell_type": "code",
   "execution_count": null,
   "metadata": {},
   "outputs": [],
   "source": [
    "#Probabilidad con campo director_name\n",
    "frecuencia_total_director = crear_tabla_frecuencias_unica(df['director_name'])\n",
    "total_director = contar_palabras_unica(df['director_name'])\n",
    "frecuencia_le_gusta_director = obtener_gustos(director,frecuencia_total_director)\n",
    "frecuencia_no_le_gusta_director = obtener_gustos(director_no,frecuencia_total_director)\n",
    "p_director = len(director) / len(frecuencia_total_director.keys())\n",
    "p_no_director = len(director_no) / len(frecuencia_total_director.keys())\n",
    "cpt_director_le_gusta = transformar_frecuencia_probabilidad(frecuencia_le_gusta_director, frecuencia_total_director)\n",
    "cpt_director_no_le_gusta = transformar_frecuencia_probabilidad(frecuencia_no_le_gusta_director, frecuencia_total_director)"
   ]
  },
  {
   "cell_type": "code",
   "execution_count": null,
   "metadata": {},
   "outputs": [],
   "source": [
    "#Probabilidad con campo actor_1_name\n",
    "frecuencia_total_actor1 = crear_tabla_frecuencias_unica(df['actor_1_name'])\n",
    "total_actor1 = contar_palabras_unica(df['actor_1_name'])\n",
    "frecuencia_le_gusta_actor1 = obtener_gustos(actor1,frecuencia_total_actor1)\n",
    "frecuencia_no_le_gusta_actor1 = obtener_gustos(actor1_no,frecuencia_total_actor1)\n",
    "p_actor1 = len(actor1) / len(frecuencia_total_actor1.keys())\n",
    "p_no_actor1 = len(actor1_no) / len(frecuencia_total_actor1.keys())\n",
    "cpt_actor1_le_gusta = transformar_frecuencia_probabilidad(frecuencia_le_gusta_actor1, frecuencia_total_actor1)\n",
    "cpt_actor1_no_le_gusta = transformar_frecuencia_probabilidad(frecuencia_no_le_gusta_actor1, frecuencia_total_actor1)"
   ]
  },
  {
   "cell_type": "code",
   "execution_count": null,
   "metadata": {},
   "outputs": [],
   "source": [
    "#Probabilidad con campo actor_2_name\n",
    "frecuencia_total_actor2 = crear_tabla_frecuencias_unica(df['actor_2_name'])\n",
    "total_actor2 = contar_palabras_unica(df['actor_2_name'])\n",
    "frecuencia_le_gusta_actor2 = obtener_gustos(actor2,frecuencia_total_actor2)\n",
    "frecuencia_no_le_gusta_actor2 = obtener_gustos(actor2_no,frecuencia_total_actor2)\n",
    "p_actor2 = len(actor2) / len(frecuencia_total_actor2.keys())\n",
    "p_no_actor2 = len(actor2_no) / len(frecuencia_total_actor2.keys())\n",
    "cpt_actor2_le_gusta = transformar_frecuencia_probabilidad(frecuencia_le_gusta_actor2, frecuencia_total_actor2)\n",
    "cpt_actor2_no_le_gusta = transformar_frecuencia_probabilidad(frecuencia_no_le_gusta_actor2, frecuencia_total_actor2)"
   ]
  },
  {
   "cell_type": "code",
   "execution_count": null,
   "metadata": {},
   "outputs": [],
   "source": [
    "#Probabilidad con campo title_year\n",
    "frecuencia_total_year = crear_tabla_frecuencias_unica(df['title_year'])\n",
    "frecuencia_le_gusta_year = obtener_gustos(year,frecuencia_total_year)\n",
    "frecuencia_no_le_gusta_year = obtener_gustos(year_no,frecuencia_total_year)\n",
    "p_year= len(year) / len(frecuencia_total_year.keys())\n",
    "p_no_year = len(year_no) / len(frecuencia_total_year.keys())\n",
    "cpt_year_le_gusta = transformar_frecuencia_probabilidad(frecuencia_le_gusta_year, frecuencia_total_year)\n",
    "cpt_year_no_le_gusta = transformar_frecuencia_probabilidad(frecuencia_no_le_gusta_year, frecuencia_total_year)"
   ]
  },
  {
   "cell_type": "code",
   "execution_count": null,
   "metadata": {},
   "outputs": [],
   "source": [
    "#ciclo para obtener pelicula por pelicula\n",
    "def obtener_peli(recomendarpeli , data):\n",
    "    for i in data.index:\n",
    "        prob = 0\n",
    "        prob = definir_prob(str(data[\"color\"][i]),str(data[\"plot_keywords\"][i]),str(data[\"genres\"][i]),str(data[\"director_name\"][i]),str(data[\"actor_1_name\"][i]),str(data[\"actor_2_name\"][i]),data[\"title_year\"][i])\n",
    "        recome_peli[str(data[\"ID\"][i])] = prob\n",
    "        \n",
    "    top_peliculas = []\n",
    "    import operator\n",
    "    top_peliculas = sorted(recomendarpeli.items(), key=operator.itemgetter(1))\n",
    "    return top_peliculas"
   ]
  },
  {
   "cell_type": "code",
   "execution_count": null,
   "metadata": {},
   "outputs": [],
   "source": [
    "#--------------------- Hacer un ciclo para ir obteniendo 1 por 1 las peliculas y su prob para agregarla a todos lo campos y luego a la tabla final\n",
    "def definir_prob(color,keywords,genero,director,actor1,actor2,year):\n",
    "    #Prob de que guste la pelicula de color - pelicula 1 por 1\n",
    "    p_color_leguste = obtener_prob_gustos([color],cpt_color_le_gusta,cpt_color_no_le_gusta,p_color,p_no_color)\n",
    "    pf_color =  peso_campo(p_color_leguste,0.05)\n",
    "\n",
    "    #Prob de que guste la pelicula de palabras clave - pelicula 1 por 1\n",
    "    p_keywords_leguste = obtener_prob_gustos([keywords],cpt_keywords_le_gusta,cpt_keywords_no_le_gusta,p_keywords,p_no_keywords)\n",
    "    pf_keywords =  peso_campo(p_keywords_leguste,0.20)\n",
    "\n",
    "    #Prob de que guste la pelicula de accion - pelicula 1 por 1\n",
    "    p_genero_leguste = obtener_prob_gustos([genero],cpt_genero_le_gusta,cpt_genero_no_le_gusta,p_generos,p_no_generos)\n",
    "    pf_genres =  peso_campo(p_genero_leguste,0.35)\n",
    "\n",
    "    #Prob de que guste la pelicula de director - pelicula 1 por 1\n",
    "    p_director_leguste = obtener_prob_gustos([director],cpt_director_le_gusta,cpt_director_no_le_gusta,p_director,p_no_director)\n",
    "    pf_director =  peso_campo(p_director_leguste,0.05)\n",
    "\n",
    "    #Prob de que guste la pelicula de actor1 - pelicula 1 por 1\n",
    "    p_actor1_leguste = obtener_prob_gustos([actor1],cpt_actor1_le_gusta,cpt_actor1_no_le_gusta,p_actor1,p_no_actor1)\n",
    "    pf_actor1 =  peso_campo(p_actor1_leguste,0.03)\n",
    "\n",
    "    #Prob de que guste la pelicula de actor2 - pelicula 1 por 1\n",
    "    p_actor2_leguste = obtener_prob_gustos([actor2],cpt_actor2_le_gusta,cpt_actor2_no_le_gusta,p_actor2,p_no_actor2)\n",
    "    pf_actor2 =  peso_campo(p_actor2_leguste,0.03)\n",
    "\n",
    "    #Prob de que guste la pelicula de cierto año - pelicula 1 por 1\n",
    "    p_year_leguste = obtener_prob_gustos([year],cpt_year_le_gusta,cpt_year_no_le_gusta,p_year,p_no_year)\n",
    "    pf_year =  peso_campo(p_year_leguste,0.01)\n",
    "    \n",
    "    res = suma_prob(pf_color,pf_keywords,pf_genres,pf_director,pf_actor1,pf_actor2,pf_year)\n",
    "    return res\n"
   ]
  },
  {
   "cell_type": "code",
   "execution_count": null,
   "metadata": {},
   "outputs": [],
   "source": [
    "#sumatoria de todas las probabilidades de cada columna\n",
    "def suma_prob(color, keywords, genres, director, actor1, actor2, year):\n",
    "    res = color + keywords + genres + director + actor1 + actor2 + year\n",
    "    #colocar los otros campos (imdb_score y num_critic_for_reviews)\n",
    "    # res = res + imdb_score + num_critic_for_reviews\n",
    "    return res"
   ]
  }
 ],
 "metadata": {
  "interpreter": {
   "hash": "2be5faf79681da6f2a61fdfdd5405d65d042280f7fba6178067603e3a2925119"
  },
  "kernelspec": {
   "display_name": "Python 3.9.4 64-bit",
   "language": "python",
   "name": "python3"
  },
  "language_info": {
   "codemirror_mode": {
    "name": "ipython",
    "version": 3
   },
   "file_extension": ".py",
   "mimetype": "text/x-python",
   "name": "python",
   "nbconvert_exporter": "python",
   "pygments_lexer": "ipython3",
   "version": "3.9.4"
  },
  "orig_nbformat": 4
 },
 "nbformat": 4,
 "nbformat_minor": 2
}
