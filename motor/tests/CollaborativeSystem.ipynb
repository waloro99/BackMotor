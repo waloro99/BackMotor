{
 "cells": [
  {
   "cell_type": "code",
   "execution_count": 37,
   "metadata": {},
   "outputs": [],
   "source": [
    "import pandas as pd\n",
    "import numpy as np\n",
    "import matplotlib.pyplot as plt"
   ]
  },
  {
   "cell_type": "code",
   "execution_count": 48,
   "metadata": {},
   "outputs": [],
   "source": [
    "def normalize_series(series):\n",
    "    return (series-series.min())/(series.max()-series.min())\n",
    "\n",
    "def splitPipe(str):\n",
    "    return str.split('|')"
   ]
  },
  {
   "cell_type": "markdown",
   "metadata": {},
   "source": [
    "## Import the data and clean NA values"
   ]
  },
  {
   "cell_type": "code",
   "execution_count": 7,
   "metadata": {},
   "outputs": [],
   "source": [
    "df = pd.read_csv('../../data/movie_metadata.csv')\n",
    "df.dropna(axis=0,subset=[\n",
    "  'color', 'director_name', 'num_critic_for_reviews', 'duration',\n",
    "  'director_facebook_likes', 'actor_3_facebook_likes', 'actor_2_name',\n",
    "  'actor_1_facebook_likes', 'gross', 'genres', 'actor_1_name',\n",
    "  'movie_title', 'num_voted_users', 'cast_total_facebook_likes',\n",
    "  'actor_3_name', 'facenumber_in_poster', 'plot_keywords',\n",
    "  'movie_imdb_link', 'num_user_for_reviews', 'language', 'country',\n",
    "  'content_rating', 'budget', 'title_year', 'actor_2_facebook_likes',\n",
    "  'imdb_score', 'aspect_ratio', 'movie_facebook_likes'\n",
    "],inplace=True)\n",
    "# df.isna().sum()"
   ]
  },
  {
   "cell_type": "markdown",
   "metadata": {},
   "source": [
    "## Obtener los generos populares\n",
    "* We get the total of generes"
   ]
  },
  {
   "cell_type": "code",
   "execution_count": 41,
   "metadata": {},
   "outputs": [
    {
     "name": "stdout",
     "output_type": "stream",
     "text": [
      "11236\n",
      "Drama          1893\n",
      "Comedy         1461\n",
      "Thriller       1117\n",
      "Action          959\n",
      "Romance         859\n",
      "Adventure       781\n",
      "Crime           709\n",
      "Fantasy         507\n",
      "Sci-Fi          496\n",
      "Family          442\n",
      "Horror          392\n",
      "Mystery         384\n",
      "Biography       239\n",
      "Animation       196\n",
      "War             152\n",
      "Music           151\n",
      "History         149\n",
      "Sport           148\n",
      "Musical          96\n",
      "Western          59\n",
      "Documentary      45\n",
      "Film-Noir         1\n",
      "dtype: int64\n"
     ]
    }
   ],
   "source": [
    "generos = df[\"genres\"]#.value_counts()\n",
    "generos = generos.str.split('|')\n",
    "generos = generos.apply(pd.Series).stack()\n",
    "totalGeneros = generos.value_counts()\n",
    "print(totalGeneros.sum())\n",
    "print(totalGeneros)"
   ]
  },
  {
   "cell_type": "markdown",
   "metadata": {},
   "source": [
    "#### Here we get how popular is each gender based on the by the reviews"
   ]
  },
  {
   "cell_type": "code",
   "execution_count": 52,
   "metadata": {},
   "outputs": [
    {
     "name": "stdout",
     "output_type": "stream",
     "text": [
      "             imdb_score\n",
      "genres                 \n",
      "Action         0.628978\n",
      "Adventure      0.644981\n",
      "Animation      0.670255\n",
      "Biography      0.715774\n",
      "Comedy         0.618782\n",
      "Crime          0.654513\n",
      "Documentary    0.698889\n",
      "Drama          0.678917\n",
      "Family         0.621357\n",
      "Fantasy        0.627751\n",
      "Film-Noir      0.770000\n",
      "History        0.715503\n",
      "Horror         0.592449\n",
      "Music          0.634371\n",
      "Musical        0.659687\n",
      "Mystery        0.647396\n",
      "Romance        0.643830\n",
      "Sci-Fi         0.632702\n",
      "Sport          0.659324\n",
      "Thriller       0.637699\n",
      "War            0.705658\n",
      "Western        0.679322\n"
     ]
    },
    {
     "name": "stderr",
     "output_type": "stream",
     "text": [
      "C:\\Users\\ANDRES~1\\AppData\\Local\\Temp/ipykernel_1044/2029579740.py:2: SettingWithCopyWarning: \n",
      "A value is trying to be set on a copy of a slice from a DataFrame.\n",
      "Try using .loc[row_indexer,col_indexer] = value instead\n",
      "\n",
      "See the caveats in the documentation: https://pandas.pydata.org/pandas-docs/stable/user_guide/indexing.html#returning-a-view-versus-a-copy\n",
      "  generesAndRating[\"genres\"] = generesAndRating[\"genres\"].apply(splitPipe)\n"
     ]
    }
   ],
   "source": [
    "generesAndRating = df[[\"genres\",\"imdb_score\"]]\n",
    "generesAndRating[\"genres\"] = generesAndRating[\"genres\"].apply(splitPipe)\n",
    "generesAndRating = generesAndRating.explode(\"genres\")\n",
    "generesAndRating = generesAndRating.groupby([\"genres\"]).mean()\n",
    "generesAndRating[\"imdb_score\"] = generesAndRating[\"imdb_score\"]/10 # we rescale the score to be between 0 and 1 (the orignal scale is between 0 and 10 so we just divide by 10)\n",
    "print(generesAndRating)"
   ]
  },
  {
   "cell_type": "markdown",
   "metadata": {},
   "source": [
    "$$\n",
    "P(A|B)=\\frac{P(B|A) * P(A)}{P(B)}\n",
    "$$"
   ]
  },
  {
   "cell_type": "markdown",
   "metadata": {},
   "source": []
  },
  {
   "cell_type": "code",
   "execution_count": null,
   "metadata": {},
   "outputs": [],
   "source": []
  },
  {
   "cell_type": "code",
   "execution_count": 14,
   "metadata": {},
   "outputs": [],
   "source": [
    "def get_recomendation():\n",
    "  return \"waifus :)\""
   ]
  }
 ],
 "metadata": {
  "interpreter": {
   "hash": "c680c68294c792e0f2c959deb92f7c2d4e3ff155654f24fedd48a6db6c69e03e"
  },
  "kernelspec": {
   "display_name": "Python 3.9.7 ('base')",
   "language": "python",
   "name": "python3"
  },
  "language_info": {
   "codemirror_mode": {
    "name": "ipython",
    "version": 3
   },
   "file_extension": ".py",
   "mimetype": "text/x-python",
   "name": "python",
   "nbconvert_exporter": "python",
   "pygments_lexer": "ipython3",
   "version": "3.9.7"
  },
  "orig_nbformat": 4
 },
 "nbformat": 4,
 "nbformat_minor": 2
}
