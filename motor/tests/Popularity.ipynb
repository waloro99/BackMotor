{
 "cells": [
  {
   "cell_type": "code",
   "execution_count": 3,
   "metadata": {},
   "outputs": [
    {
     "data": {
      "text/plain": [
       "ID                        0\n",
       "movie_title               0\n",
       "color                     0\n",
       "plot_keywords             0\n",
       "genres                    0\n",
       "director_name             0\n",
       "num_critic_for_reviews    0\n",
       "actor_1_name              0\n",
       "actor_2_name              0\n",
       "imdb_score                0\n",
       "title_year                0\n",
       "num_critic_for_reviews    0\n",
       "dtype: int64"
      ]
     },
     "execution_count": 3,
     "metadata": {},
     "output_type": "execute_result"
    }
   ],
   "source": [
    "import pandas as pd\n",
    "import numpy as np\n",
    "import matplotlib.pyplot as plt\n",
    " \n",
    "#obtener el data frame de la informacion del archivo csv\n",
    "df = pd.Cov = pd.read_csv(\"../../data/test.csv\", header=None)#(\"movie_metadata.csv\")#(\"test.csv\")\n",
    "df.columns = [\"ID\", \"movie_title\", \"color\", \"plot_keywords\", \"genres\", \"director_name\", \"num_critic_for_reviews\" , \"actor_1_name\", \"actor_2_name\", \"imdb_score\", \"title_year\", \"num_critic_for_reviews\"]\n",
    "df.dropna(axis=0,subset=[\"ID\", \"movie_title\", \"color\", \"plot_keywords\", \"genres\", \"director_name\", \"num_critic_for_reviews\" , \"actor_1_name\", \"actor_2_name\", \"imdb_score\", \"title_year\", \"num_critic_for_reviews\"],inplace=True)\n",
    "df.isna().sum()"
   ]
  },
  {
   "cell_type": "code",
   "execution_count": 4,
   "metadata": {},
   "outputs": [],
   "source": [
    "max_review = df[\"num_critic_for_reviews\"].max()[0]\n",
    "df[\"popularity\"] = ((df[\"num_critic_for_reviews\"].iloc[:,0]/max_review)) * (df[\"imdb_score\"])"
   ]
  },
  {
   "cell_type": "code",
   "execution_count": 34,
   "metadata": {},
   "outputs": [],
   "source": [
    "# Normalizado"
   ]
  },
  {
   "cell_type": "code",
   "execution_count": 10,
   "metadata": {},
   "outputs": [
    {
     "data": {
      "text/plain": [
       "48      1.000000\n",
       "51      0.940959\n",
       "33      0.886072\n",
       "183     0.866204\n",
       "393     0.846538\n",
       "          ...   \n",
       "175     0.000000\n",
       "170     0.000000\n",
       "4297    0.000000\n",
       "1886    0.000000\n",
       "1226    0.000000\n",
       "Name: popularity, Length: 4641, dtype: float64"
      ]
     },
     "execution_count": 10,
     "metadata": {},
     "output_type": "execute_result"
    }
   ],
   "source": [
    "# normalized_df.plot(kind='hist', bins=100, figsize=(10,6))\n",
    "# df[[\"imdb_score\", \"popularity\"]].plot(kind='scatter', x='imdb_score', y='popularity', figsize=(10,6))\n",
    "# df[[\"imdb_score\", \"popularity\", \"num_critic_for_reviews\"]].hist(bins=25, figsize=(10,6))\n",
    "# df[[\"imdb_score\", \"popularity\", \"num_critic_for_reviews\"]]\n",
    "normalized_df=(df['popularity']-df['popularity'].min())/(df['popularity'].max()-df['popularity'].min())\n",
    "normalized_df.sort_values(ascending=False)"
   ]
  },
  {
   "cell_type": "code",
   "execution_count": 39,
   "metadata": {},
   "outputs": [
    {
     "ename": "NameError",
     "evalue": "name 'ggplot' is not defined",
     "output_type": "error",
     "traceback": [
      "\u001b[1;31m---------------------------------------------------------------------------\u001b[0m",
      "\u001b[1;31mNameError\u001b[0m                                 Traceback (most recent call last)",
      "\u001b[1;32mC:\\Users\\ANDRES~1\\AppData\\Local\\Temp/ipykernel_10780/2059206755.py\u001b[0m in \u001b[0;36m<module>\u001b[1;34m\u001b[0m\n\u001b[1;32m----> 1\u001b[1;33m \u001b[0mggplot\u001b[0m\u001b[1;33m(\u001b[0m\u001b[0mdf\u001b[0m\u001b[1;33m,\u001b[0m \u001b[0maes\u001b[0m\u001b[1;33m(\u001b[0m\u001b[0mx\u001b[0m\u001b[1;33m=\u001b[0m\u001b[1;34m'imdb_score'\u001b[0m\u001b[1;33m,\u001b[0m \u001b[0my\u001b[0m\u001b[1;33m=\u001b[0m\u001b[1;34m'popularity'\u001b[0m\u001b[1;33m)\u001b[0m\u001b[1;33m)\u001b[0m \u001b[1;33m+\u001b[0m \u001b[0mgeom_point\u001b[0m\u001b[1;33m(\u001b[0m\u001b[1;33m)\u001b[0m\u001b[1;33m\u001b[0m\u001b[1;33m\u001b[0m\u001b[0m\n\u001b[0m",
      "\u001b[1;31mNameError\u001b[0m: name 'ggplot' is not defined"
     ]
    }
   ],
   "source": [
    "ggplot(df, aes(x='imdb_score', y='popularity')) + geom_point()"
   ]
  }
 ],
 "metadata": {
  "interpreter": {
   "hash": "2be5faf79681da6f2a61fdfdd5405d65d042280f7fba6178067603e3a2925119"
  },
  "kernelspec": {
   "display_name": "Python 3.9.4 64-bit",
   "language": "python",
   "name": "python3"
  },
  "language_info": {
   "codemirror_mode": {
    "name": "ipython",
    "version": 3
   },
   "file_extension": ".py",
   "mimetype": "text/x-python",
   "name": "python",
   "nbconvert_exporter": "python",
   "pygments_lexer": "ipython3",
   "version": "3.9.7"
  },
  "orig_nbformat": 4
 },
 "nbformat": 4,
 "nbformat_minor": 2
}
