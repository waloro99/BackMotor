{
 "cells": [
  {
   "cell_type": "code",
   "execution_count": 3,
   "metadata": {},
   "outputs": [],
   "source": [
    "import pandas as pd\n",
    " \n",
    " #obtener el data frame de la informacion del archivo csv\n",
    "df = pd.read_csv(\"movie_metadata.csv\")\n",
    " \n",
    "#print(df)"
   ]
  },
  {
   "cell_type": "markdown",
   "metadata": {},
   "source": [
    "# NORMALIZACIÓN\n",
    "\n",
    "$$\n",
    "\n",
    "P(W = s|T = c) = \\frac{P(W = s,T = c)}{P(T = c)}\n",
    "\n",
    "$$\n",
    "\n",
    "-----------------------------------------------\n",
    "\n",
    "$$\n",
    "\n",
    "P(W = s|T = c) = \\frac{P(W = s,T = c)}{P(W = s,T = c) + P(W = r,T = c)}\n",
    "\n",
    "$$\n",
    "\n"
   ]
  },
  {
   "cell_type": "code",
   "execution_count": null,
   "metadata": {},
   "outputs": [],
   "source": [
    "# dejar un frame unicamente con las columnas necesarias\n",
    "#luego realizar bag of words\n",
    "#realizar naive bayes\n",
    "#realizar los metodos para generar las probabilidades\n",
    "#realizar metodos para solicitar en api"
   ]
  }
 ],
 "metadata": {
  "interpreter": {
   "hash": "2be5faf79681da6f2a61fdfdd5405d65d042280f7fba6178067603e3a2925119"
  },
  "kernelspec": {
   "display_name": "Python 3.9.4 64-bit",
   "language": "python",
   "name": "python3"
  },
  "language_info": {
   "codemirror_mode": {
    "name": "ipython",
    "version": 3
   },
   "file_extension": ".py",
   "mimetype": "text/x-python",
   "name": "python",
   "nbconvert_exporter": "python",
   "pygments_lexer": "ipython3",
   "version": "3.9.4"
  },
  "orig_nbformat": 4
 },
 "nbformat": 4,
 "nbformat_minor": 2
}
